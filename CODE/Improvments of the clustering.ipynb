{
 "cells": [
  {
   "cell_type": "code",
   "execution_count": 1,
   "id": "9c50e615",
   "metadata": {},
   "outputs": [],
   "source": [
    "import itertools\n",
    "\n",
    "import matplotlib.pyplot as plt\n",
    "import numpy as np\n",
    "\n",
    "from stats import *\n",
    "from utils import *\n",
    "import visual as vi\n",
    "from Inlier_Thresholder import Inlier_Thresholder\n",
    "import scipy.io as spi\n",
    "from time import time\n",
    "import os\n",
    "import seaborn as sns\n",
    "from itertools import chain"
   ]
  },
  {
   "cell_type": "markdown",
   "id": "e127612d",
   "metadata": {},
   "source": [
    "# FUZZY VALUE OF THE CLUSTERING OF LMEDS"
   ]
  },
  {
   "cell_type": "code",
   "execution_count": 2,
   "id": "8d2fc7cb",
   "metadata": {},
   "outputs": [],
   "source": [
    "directory = 'C:/Users/carlo/IACV PROJECT/adelH'\n",
    "\n",
    "# List all files in the directory\n",
    "files = os.listdir(directory)\n",
    "\n",
    "# Filter out only the .mat files\n",
    "names = [file for file in files if file.endswith('.mat')]\n",
    "\n",
    "# Load each .mat file\n",
    "mat_data = {}\n",
    "for file in names:\n",
    "    file_path = os.path.join(directory, file)\n",
    "    mat_data[file] = spi.loadmat(file_path)\n",
    "    "
   ]
  },
  {
   "cell_type": "code",
   "execution_count": 3,
   "id": "52301cf1",
   "metadata": {},
   "outputs": [],
   "source": [
    "# input parameter, how many files to analyse\n",
    "number_of_data_to_analyse=len(names)\n",
    "\n",
    "\n",
    "thresholds = [[] for i in range(number_of_data_to_analyse)]\n",
    "res_matrices=[]\n",
    "part_matrices=[]\n",
    "\n",
    "H_lmeds=[]\n",
    "\n",
    "\n",
    "\n",
    "for i in range(number_of_data_to_analyse):\n",
    "    data=mat_data[names[i]]\n",
    "    res_mat=build_residual_matrix(data,verbose=False)\n",
    "    \n",
    "    res_matrices.append(res_mat)\n",
    "    part_matrices.append(build_partition_matrix(res_mat))\n",
    "    \n",
    "    res=compute_inliers_residual_curve(data)\n",
    "    \n",
    "    data=mat_data[names[i]]\n",
    "    \n",
    "    img1, img2 = data[\"img1\"], data[\"img2\"]\n",
    "\n",
    "    outliers, models = vi.group_models(data)[\"outliers\"], vi.group_models(data)[\"models\"]\n",
    "    \n",
    "    points=extract_points(models,data)\n",
    "    \n",
    "    labels = points[3]\n",
    "    \n",
    "    points=points[0]\n",
    "    \n",
    "    H_models=[]\n",
    "    \n",
    "    for m in range(len(models)):\n",
    "        src = points[\"src_points\"][m]\n",
    "        dst = points[\"dst_points\"][m]\n",
    "        \n",
    "        H,_=verify_LMEDS_H(src,dst,verbose=False)\n",
    "        \n",
    "        H_models.append(H)\n",
    "        \n",
    "    H_lmeds.append(H_models)\n",
    "        \n",
    "\n",
    "    for j in range(len(res)):\n",
    "        anomaly_detector=Inlier_Thresholder(res[j])\n",
    "\n",
    "        labels, threshold=anomaly_detector.use_best_method(verbose=False)  # use best method among the statistical ones, best according to silhouette\n",
    "        \n",
    "        if len(np.unique(labels))!=1:\n",
    "            thresholds[i].append(threshold)\n"
   ]
  },
  {
   "cell_type": "code",
   "execution_count": 4,
   "id": "679b6cff",
   "metadata": {},
   "outputs": [
    {
     "data": {
      "text/plain": [
       "0.9113758227051876"
      ]
     },
     "execution_count": 4,
     "metadata": {},
     "output_type": "execute_result"
    }
   ],
   "source": [
    "fuzzy_sil=[]\n",
    "for i in range(len(res_matrices)):\n",
    "    fuzzy_sil.append(Fuzzy_silhouette(res_matrices[i],part_matrices[i]))\n",
    "    \n",
    "np.mean(fuzzy_sil)"
   ]
  },
  {
   "cell_type": "markdown",
   "id": "8623b4e9",
   "metadata": {},
   "source": [
    "# GC RANSAC WITH RIGHT INLIER THRESHOLD"
   ]
  },
  {
   "cell_type": "code",
   "execution_count": 5,
   "id": "c6fb81a6",
   "metadata": {},
   "outputs": [
    {
     "data": {
      "text/plain": [
       "[[3.9059483895348674, 5.061296450727099],\n",
       " [1.2727631044728074,\n",
       "  1.3540355136313136,\n",
       "  1.6518908412426505,\n",
       "  1.314670265238886,\n",
       "  1.110507308045321,\n",
       "  0.7774561582355207],\n",
       " [4.47025515869321],\n",
       " [12.15950442095154, 4.922981679454178],\n",
       " [1.8931507520140534, 1.0025402084617272, 3.4689818487661435],\n",
       " [4.013263635193033, 3.4420158659309443],\n",
       " [10.65333665445521,\n",
       "  1.4972973899491056,\n",
       "  4.855841909636071,\n",
       "  2.1346919352420777],\n",
       " [20.48936186639708,\n",
       "  10.65333665445521,\n",
       "  3.5880995829430957,\n",
       "  4.855841909636071,\n",
       "  19.1939351600231,\n",
       "  2.2929432197981274,\n",
       "  2.1346919352420777],\n",
       " [7.587707981890549, 2.3732627091400564],\n",
       " [2.9236960966399845, 2.621117722733934],\n",
       " [1.7893970318330898, 6.024208380026],\n",
       " [18.664565650574087, 2.9567515905492634, 6.3074591885583216],\n",
       " [2.6793874293083793, 3.841510567003268, 7.794031341459188],\n",
       " [2.9236960461703045, 1.4929407152901897],\n",
       " [2.629437652198048, 1.1390767648300542],\n",
       " [9.911076035281326],\n",
       " [4.151204581395456, 1.6038197688786329],\n",
       " [1.1990669463070318,\n",
       "  3.656456325287442,\n",
       "  1.1142571137984818,\n",
       "  0.9516065082261738,\n",
       "  0.8392691995146977]]"
      ]
     },
     "execution_count": 5,
     "metadata": {},
     "output_type": "execute_result"
    }
   ],
   "source": [
    "thresholds"
   ]
  },
  {
   "cell_type": "code",
   "execution_count": 6,
   "id": "bc5fd482",
   "metadata": {},
   "outputs": [],
   "source": [
    "# input parameter, how many files to analyse\n",
    "number_of_data_to_analyse=len(names)\n",
    "\n",
    "\n",
    "\n",
    "res_matrices=[]\n",
    "part_matrices=[]\n",
    "H_gc=[]\n",
    "\n",
    "residuals=[]\n",
    "\n",
    "\n",
    "\n",
    "\n",
    "\n",
    "for i in range(number_of_data_to_analyse):\n",
    "    data=mat_data[names[i]]\n",
    "    \n",
    "    img1, img2 = data[\"img1\"], data[\"img2\"]\n",
    "\n",
    "    outliers, models = vi.group_models(data)[\"outliers\"], vi.group_models(data)[\"models\"]\n",
    "    \n",
    "    points=extract_points(models,data)\n",
    "    \n",
    "    labels = points[3]\n",
    "    \n",
    "    points=points[0]\n",
    "    \n",
    "    H_models=[]\n",
    "    \n",
    "    H_res_models=[]\n",
    "    \n",
    "    for m in range(len(models)):\n",
    "        src = points[\"src_points\"][m]\n",
    "        dst = points[\"dst_points\"][m]\n",
    "        \n",
    "        H,_=verify_pygcransac_H(src,dst,img1,img2,threshold=thresholds[i][m],verbose=False)\n",
    "        \n",
    "        H_models.append(H)\n",
    "        \n",
    "        H_residual= residual_H1_wrt_H2(src,H,H_lmeds[i][m])\n",
    "        \n",
    "        H_res_models.append(H_residual)\n",
    "        \n",
    "    residuals.append(H_res_models)\n",
    "        \n",
    "    H_gc.append(H_models)\n",
    "    \n",
    "    \n",
    "    res=build_residual_matrix(data, plot=False, verbose=False, method=\"gc-ransac\" , threshold=thresholds[i])\n",
    "    \n",
    "    res_matrices.append(res)\n",
    "    part_matrices.append(build_partition_matrix(res))\n",
    "\n",
    "        \n",
    "        "
   ]
  },
  {
   "cell_type": "code",
   "execution_count": 7,
   "id": "7c365b17",
   "metadata": {},
   "outputs": [
    {
     "data": {
      "text/plain": [
       "0.918209408831556"
      ]
     },
     "execution_count": 7,
     "metadata": {},
     "output_type": "execute_result"
    }
   ],
   "source": [
    "fuzzy_sil=[]\n",
    "for i in range(len(res_matrices)):\n",
    "    fuzzy_sil.append(Fuzzy_silhouette(res_matrices[i],part_matrices[i]))\n",
    "    \n",
    "np.mean(fuzzy_sil)"
   ]
  },
  {
   "cell_type": "code",
   "execution_count": 8,
   "id": "d1ef381e",
   "metadata": {},
   "outputs": [
    {
     "data": {
      "text/plain": [
       "0.19857924698415041"
      ]
     },
     "execution_count": 8,
     "metadata": {},
     "output_type": "execute_result"
    }
   ],
   "source": [
    "flattened_residuals=[r for s in residuals for c in s for r in c]\n",
    "np.mean(flattened_residuals)"
   ]
  },
  {
   "cell_type": "code",
   "execution_count": null,
   "id": "0baf9918",
   "metadata": {},
   "outputs": [],
   "source": []
  }
 ],
 "metadata": {
  "kernelspec": {
   "display_name": "Python 3 (ipykernel)",
   "language": "python",
   "name": "python3"
  },
  "language_info": {
   "codemirror_mode": {
    "name": "ipython",
    "version": 3
   },
   "file_extension": ".py",
   "mimetype": "text/x-python",
   "name": "python",
   "nbconvert_exporter": "python",
   "pygments_lexer": "ipython3",
   "version": "3.8.18"
  }
 },
 "nbformat": 4,
 "nbformat_minor": 5
}
