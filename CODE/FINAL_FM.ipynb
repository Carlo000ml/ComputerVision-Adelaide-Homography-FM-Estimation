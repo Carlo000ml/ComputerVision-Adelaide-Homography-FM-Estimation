{
 "cells": [
  {
   "cell_type": "code",
   "execution_count": null,
   "metadata": {
    "ExecuteTime": {
     "end_time": "2024-07-20T21:38:59.763730Z",
     "start_time": "2024-07-20T21:38:59.118207Z"
    }
   },
   "outputs": [],
   "source": [
    "import itertools\n",
    "\n",
    "import matplotlib.pyplot as plt\n",
    "import numpy as np\n",
    "\n",
    "from stats import *\n",
    "from utils import *\n",
    "import visual as vi\n",
    "from Inlier_Thresholder import Inlier_Thresholder\n",
    "import scipy.io as spi\n",
    "from time import time\n",
    "import os\n",
    "import seaborn as sns\n",
    "from itertools import chain"
   ]
  },
  {
   "cell_type": "code",
   "execution_count": null,
   "metadata": {
    "ExecuteTime": {
     "end_time": "2024-07-20T21:39:00.045126Z",
     "start_time": "2024-07-20T21:38:59.766181Z"
    }
   },
   "outputs": [],
   "source": [
    "directory = 'C:/Users/carlo/IACV PROJECT/adelFM'\n",
    "\n",
    "# List all files in the directory\n",
    "files = os.listdir(directory)\n",
    "\n",
    "# Filter out only the .mat files\n",
    "names = [file for file in files if file.endswith('.mat')]\n",
    "\n",
    "# Load each .mat file\n",
    "mat_data = {}\n",
    "for file in names:\n",
    "    file_path = os.path.join(directory, file)\n",
    "    mat_data[file] = spi.loadmat(file_path)\n",
    "    "
   ]
  },
  {
   "cell_type": "code",
   "execution_count": null,
   "metadata": {
    "ExecuteTime": {
     "end_time": "2024-07-20T21:39:01.202703Z",
     "start_time": "2024-07-20T21:39:00.046278Z"
    }
   },
   "outputs": [],
   "source": [
    "# input parameter, how many files to analyse\n",
    "number_of_data_to_analyse=len(names)\n",
    "\n",
    "thresholds = [[] for i in range(number_of_data_to_analyse)]\n",
    "\n",
    "for i in range(number_of_data_to_analyse):\n",
    "    data = mat_data[names[i]]\n",
    "    res, n_inl, n_outl = compute_inliers_residual_curve(data, type='FM', return_inl_outl=True, verbose=False, metric=\"sed\")\n",
    "\n",
    "    for j in range(len(res)):\n",
    "        anomaly_detector=Inlier_Thresholder(res[j], n_inl[j], n_outl[j],  alphas={\"Median AD\": 4 , \"Variance based\": 3 ,\"Rosseeuw SN\":4,\"Rosseeuw QN\":4 })\n",
    "\n",
    "        labels, threshold=anomaly_detector.compute_inlier_threshold(\"Variance based\") #use_best_method()  # use best method among the statistical ones, best according to silhouette\n",
    "        #print(\"eccolo: \", threshold)\n",
    "        thresholds[i].append(threshold)\n",
    "        \n",
    "        if len(np.unique(labels))!=1:\n",
    "            silhouette_scr, silhouette_avg, values = silhouette_score_and_average(res[j], labels)\n",
    "            plot_silhouette(silhouette_scr, labels, silhouette_avg, values, -thresholds[i][j])\n",
    "  "
   ]
  },
  {
   "cell_type": "code",
   "execution_count": null,
   "metadata": {},
   "outputs": [],
   "source": [
    "# input parameter, how many files to analyse\n",
    "number_of_data_to_analyse=len(names)\n",
    "\n",
    "thresholds_1 = [[] for i in range(number_of_data_to_analyse)]\n",
    "\n",
    "for i in range(number_of_data_to_analyse):\n",
    "    data = mat_data[names[i]]\n",
    "    res, n_inl, n_outl = compute_inliers_residual_curve(data, type='FM', return_inl_outl=True, verbose=False, metric=\"sampson\")\n",
    "\n",
    "    for j in range(len(res)):\n",
    "        anomaly_detector=Inlier_Thresholder(res[j], n_inl[j], n_outl[j],  alphas={\"Median AD\": 4 , \"Variance based\": 3 ,\"Rosseeuw SN\":4,\"Rosseeuw QN\":4 })\n",
    "\n",
    "        labels, threshold=anomaly_detector.compute_inlier_threshold(\"Variance based\") #use_best_method()  # use best method among the statistical ones, best according to silhouette\n",
    "        #print(\"eccolo: \", threshold)\n",
    "        thresholds_1[i].append(threshold)\n",
    "        \n",
    "        if len(np.unique(labels))!=1:\n",
    "            silhouette_scr, silhouette_avg, values = silhouette_score_and_average(res[j], labels)\n",
    "            plot_silhouette(silhouette_scr, labels, silhouette_avg, values, -thresholds_1[i][j])\n",
    "  "
   ]
  },
  {
   "cell_type": "code",
   "execution_count": null,
   "metadata": {
    "scrolled": true
   },
   "outputs": [],
   "source": [
    "ens_labels_1=[]\n",
    "for i in range(len(thresholds)):\n",
    "    print(i)\n",
    "    data=mat_data[names[i]]\n",
    "    ens = build_ensemble_mask(data, plot=False, verbose=False, threshold=thresholds[i])\n",
    "    ens1 = build_ensemble_mask(data, plot=False, verbose=False, threshold=thresholds_1[i])\n",
    "    \n",
    "    im1=data[\"img1\"]\n",
    "    im2=data[\"img2\"]\n",
    "    \n",
    "    outliers, models = vi.group_models(data)[\"outliers\"], vi.group_models(data)[\"models\"]\n",
    "\n",
    "    points=extract_points(models,data)\n",
    "\n",
    "    tot_src=points[1]\n",
    "    tot_dst=points[2]\n",
    "\n",
    "    points=points[0]\n",
    "    \n",
    "    image_lab=[]\n",
    "    \n",
    "    for j in range(len(models)):\n",
    "        \n",
    "    \n",
    "        ensemble=np.where(ens[j]+ens1[j]<2,0,1)\n",
    "        image_lab.append(ensemble)\n",
    "        \n",
    "\n",
    "\n",
    "\n",
    "        src = points[\"src_points\"][j][np.where(ensemble==0)]\n",
    "        dst = points[\"dst_points\"][j][np.where(ensemble==0)]\n",
    "        plt.figure()\n",
    "        draw_matches(im1,im2,src,dst)\n",
    "        plt.show()\n",
    "    ens_labels_1.append(image_lab)"
   ]
  },
  {
   "cell_type": "code",
   "execution_count": null,
   "metadata": {},
   "outputs": [],
   "source": [
    "len(ens_labels_1[0])"
   ]
  },
  {
   "cell_type": "code",
   "execution_count": null,
   "metadata": {
    "ExecuteTime": {
     "end_time": "2024-07-20T21:39:16.394856Z",
     "start_time": "2024-07-20T21:39:16.394790Z"
    }
   },
   "outputs": [],
   "source": [
    "\n",
    "## outlier scores for a single model of a single image\n",
    "def outlier_score(src , dst):\n",
    "    \n",
    "    ## initial quantities\n",
    "    N=src.shape[0]\n",
    "    \n",
    "    ## fit the baseline\n",
    "    FM,baseline_mask=cv2.findFundamentalMat(src, dst, method=cv2.FM_8POINT)#verify_pygcransac_H(src,dst,img1,img2, threshold, verbose=False)\n",
    "    \n",
    "    ## initialize the return quantity\n",
    "    outlier_scores_FM=np.zeros(N)\n",
    "    \n",
    "    \n",
    "    ## loop through all the points\n",
    "    for i in range(N):\n",
    "        src_i = np.delete(src, i, axis=0)\n",
    "        dst_i = np.delete(dst, i, axis=0)\n",
    "        \n",
    "        ## fit the model\n",
    "        FM_i,mask_i=cv2.findFundamentalMat(src_i, dst_i, method=cv2.FM_8POINT)#verify_pygcransac_H(src_i,dst_i,img1,img2, threshold, verbose=False)\n",
    "\n",
    "        ## outlier score\n",
    "        outlier_scores_FM[i]=sum(sum((FM-FM_i)**2))\n",
    "        \n",
    "    ## return\n",
    "    return outlier_scores_FM"
   ]
  },
  {
   "cell_type": "code",
   "execution_count": null,
   "metadata": {
    "ExecuteTime": {
     "end_time": "2024-07-20T21:39:16.530616Z",
     "start_time": "2024-07-20T21:39:16.396546Z"
    }
   },
   "outputs": [],
   "source": [
    "outlier_scores_FM=[]\n",
    "\n",
    "for i in range(number_of_data_to_analyse):\n",
    "    data=mat_data[names[i]]\n",
    "\n",
    "    img1, img2 = data[\"img1\"], data[\"img2\"]\n",
    "\n",
    "    outliers, models = vi.group_models(data)[\"outliers\"], vi.group_models(data)[\"models\"]\n",
    "\n",
    "    points=extract_points(models,data)\n",
    "\n",
    "    tot_src=points[1]\n",
    "    tot_dst=points[2]\n",
    "\n",
    "    points=points[0]\n",
    "\n",
    "    out_score_img_i_FM=[]\n",
    "\n",
    "    for m in range(len(models)):\n",
    "\n",
    "\n",
    "        src = points[\"src_points\"][m]\n",
    "        dst = points[\"dst_points\"][m]\n",
    "\n",
    "\n",
    "        out_score_img_i_FM.append(outlier_score(src,dst))\n",
    "\n",
    "    outlier_scores_FM.append(out_score_img_i_FM)"
   ]
  },
  {
   "cell_type": "code",
   "execution_count": null,
   "metadata": {
    "ExecuteTime": {
     "end_time": "2024-07-20T21:39:16.549617Z",
     "start_time": "2024-07-20T21:39:16.538483Z"
    }
   },
   "outputs": [],
   "source": [
    "for j in range(number_of_data_to_analyse):\n",
    "\n",
    "    for i in range(len(outlier_scores_FM[j])):\n",
    "         print(f\"img{j} model{i}\")\n",
    "         print(f\"inliers avarage score ({sum(ens_labels_1[j][i])}): \",np.mean(outlier_scores_FM[j][i][np.where(ens_labels_1[j][i]==1)]),f\" Outliers avarage score ({len(ens_labels_1[j][i])-(sum(ens_labels_1[j][i]))}): \" ,\n",
    "               np.mean(outlier_scores_FM[j][i][np.where(ens_labels_1[j][i]==0)]), f\"Factor of the two: \", np.mean(outlier_scores_FM[j][i][np.where(ens_labels_1[j][i]==0)])/np.mean(outlier_scores_FM[j][i][np.where(ens_labels_1[j][i]==1)]))"
   ]
  },
  {
   "cell_type": "code",
   "execution_count": null,
   "metadata": {
    "ExecuteTime": {
     "end_time": "2024-07-20T21:39:31.365758Z",
     "start_time": "2024-07-20T21:39:16.553520Z"
    }
   },
   "outputs": [],
   "source": [
    "influence_labels=[]\n",
    "\n",
    "for j in range(number_of_data_to_analyse):\n",
    "    \n",
    "    image_labels=[]\n",
    "\n",
    "    for i in range(len(outlier_scores_FM[j])):\n",
    "        #m=(outlier_scores_FM[j][i]>=np.median(outlier_scores_FM[j][i])+2*np.std(outlier_scores_FM[j][i]))\n",
    "        anomaly_detector=Inlier_Thresholder(outlier_scores_FM[j][i],  alphas={\"Median AD\": 5 , \"Variance based\": 1.2 ,\"Rosseeuw SN\":1.5,\"Rosseeuw QN\":5 })\n",
    "        \n",
    "        \n",
    "        labels, threshold=anomaly_detector.ensemble_inlier_thresholder() #compute_inlier_threshold(\"Variance based\")  # use best method among the statistical ones, best according to silhouette\n",
    "\n",
    "        #labels 1 outlier 0 inlier\n",
    "        m=abs(labels-1)\n",
    "        \n",
    "        image_labels.append(m)\n",
    "        if len(np.unique(m))==2: \n",
    "            silhouette_scr, silhouette_avg, values = silhouette_score_and_average(outlier_scores_FM[j][i], m)\n",
    "        \n",
    "       # m=abs(m.astype(int)-1)\n",
    "            plot_silhouette(silhouette_scr, m, silhouette_avg=silhouette_avg, values=values, threhsold=-threshold)\n",
    "\n",
    "        data=mat_data[names[j]]\n",
    "        im1=data[\"img1\"]\n",
    "        im2=data[\"img2\"]\n",
    "\n",
    "        outliers, models = vi.group_models(data)[\"outliers\"], vi.group_models(data)[\"models\"]\n",
    "\n",
    "        points=extract_points(models,data)\n",
    "\n",
    "        tot_src=points[1]\n",
    "        tot_dst=points[2]\n",
    "\n",
    "        points=points[0]\n",
    "\n",
    "        src = points[\"src_points\"][i][np.where(m==0)]\n",
    "        dst = points[\"dst_points\"][i][np.where(m==0)]\n",
    "        plt.figure()\n",
    "        draw_matches(im1,im2,src,dst)\n",
    "        plt.show()\n",
    "        \n",
    "    influence_labels.append(image_labels)"
   ]
  },
  {
   "cell_type": "code",
   "execution_count": null,
   "metadata": {},
   "outputs": [],
   "source": [
    "ens_labels_influence_ensemble=[]\n",
    "for i in range(len(thresholds)):\n",
    "    print(i)\n",
    "    data=mat_data[names[i]]\n",
    "\n",
    "    \n",
    "    im1=data[\"img1\"]\n",
    "    im2=data[\"img2\"]\n",
    "    \n",
    "    outliers, models = vi.group_models(data)[\"outliers\"], vi.group_models(data)[\"models\"]\n",
    "\n",
    "    points=extract_points(models,data)\n",
    "\n",
    "    tot_src=points[1]\n",
    "    tot_dst=points[2]\n",
    "\n",
    "    points=points[0]\n",
    "    \n",
    "    image_lab=[]\n",
    "    \n",
    "    \n",
    "    for j in range(len(models)):\n",
    "        \n",
    "    \n",
    "        ensemble=np.where(influence_labels[i][j]+ens_labels_1[i][j]<1,0,1)\n",
    "        image_lab.append(ensemble)\n",
    "        \n",
    "\n",
    "\n",
    "\n",
    "        src = points[\"src_points\"][j][np.where(ensemble==0)]\n",
    "        dst = points[\"dst_points\"][j][np.where(ensemble==0)]\n",
    "        plt.figure()\n",
    "        draw_matches(im1,im2,src,dst)\n",
    "        plt.show()\n",
    "        \n",
    "    ens_labels_influence_ensemble.append(image_lab)\n"
   ]
  },
  {
   "cell_type": "code",
   "execution_count": null,
   "metadata": {
    "ExecuteTime": {
     "end_time": "2024-07-20T21:39:16.394400Z",
     "start_time": "2024-07-20T21:39:01.213474Z"
    }
   },
   "outputs": [],
   "source": [
    "residuals = []\n",
    "gc_masks = []\n",
    "FM_gc = []\n",
    "\n",
    "for i in range(number_of_data_to_analyse):\n",
    "    data=mat_data[names[i]]\n",
    "\n",
    "    gc_masks_i = []\n",
    "    FM_models = []\n",
    "\n",
    "    outliers, models = vi.group_models(data)[\"outliers\"], vi.group_models(data)[\"models\"]\n",
    "\n",
    "    points=extract_points(models,data)\n",
    "    \n",
    "    points=points[0]\n",
    "\n",
    "    for m in range(len(models)):\n",
    "        src = points[\"src_points\"][m]\n",
    "        dst = points[\"dst_points\"][m]\n",
    "\n",
    "        FM, mask_i = verify_FM(src, dst, method='gc-ransac', threshold=thresholds[i][m], verbose=False)\n",
    "\n",
    "        FM_models.append(FM)\n",
    "\n",
    "        gc_masks_i.append(mask_i)\n",
    "\n",
    "    gc_masks.append(gc_masks_i)\n",
    "\n",
    "    FM_gc.append(FM_models)\n",
    "\n",
    "    res=build_residual_matrix(data, plot=True, verbose=False, method=\"gc-ransac\", type='FM', threshold=thresholds[i], metric=\"sed\")\n",
    "\n"
   ]
  },
  {
   "cell_type": "markdown",
   "metadata": {},
   "source": [
    "## 3) Ensembling"
   ]
  },
  {
   "cell_type": "code",
   "execution_count": null,
   "metadata": {
    "ExecuteTime": {
     "end_time": "2024-07-20T21:39:46.528784Z",
     "start_time": "2024-07-20T21:39:31.364581Z"
    }
   },
   "outputs": [],
   "source": [
    "for i in range(len(thresholds)):\n",
    "    data=mat_data[names[i]]\n",
    "    ens = build_ensemble_mask(data, plot=True, verbose=False, threshold=thresholds[i])"
   ]
  },
  {
   "cell_type": "code",
   "execution_count": null,
   "metadata": {},
   "outputs": [],
   "source": [
    "for i in range(len(thresholds)):\n",
    "    data=mat_data[names[i]]\n",
    "    ens = build_ensemble_mask(data, plot=True, verbose=False, threshold=thresholds_1[i])"
   ]
  },
  {
   "cell_type": "code",
   "execution_count": null,
   "metadata": {},
   "outputs": [],
   "source": []
  }
 ],
 "metadata": {
  "kernelspec": {
   "display_name": "Python 3 (ipykernel)",
   "language": "python",
   "name": "python3"
  },
  "language_info": {
   "codemirror_mode": {
    "name": "ipython",
    "version": 3
   },
   "file_extension": ".py",
   "mimetype": "text/x-python",
   "name": "python",
   "nbconvert_exporter": "python",
   "pygments_lexer": "ipython3",
   "version": "3.8.18"
  }
 },
 "nbformat": 4,
 "nbformat_minor": 2
}
